{
 "cells": [
  {
   "cell_type": "code",
   "execution_count": 1,
   "id": "40739fd0-dc5a-4c96-b38b-779954ffe136",
   "metadata": {},
   "outputs": [],
   "source": [
    "import pandas as pd;\n",
    "import numpy as np;\n",
    "import matplotlib.pyplot as plt;\n",
    "import seaborn as sns;"
   ]
  },
  {
   "cell_type": "code",
   "execution_count": 2,
   "id": "b54212f6-6719-43a9-919b-b52406eff2f5",
   "metadata": {},
   "outputs": [],
   "source": [
    "# import data set \n",
    "ht= pd.read_csv('hotel_booking.csv', encoding= 'unicode_escape')"
   ]
  },
  {
   "cell_type": "code",
   "execution_count": 3,
   "id": "829a9f3e-1bb7-4d51-8618-59818e183d6e",
   "metadata": {},
   "outputs": [
    {
     "data": {
      "text/plain": [
       "(119390, 36)"
      ]
     },
     "execution_count": 3,
     "metadata": {},
     "output_type": "execute_result"
    }
   ],
   "source": [
    "ht.shape"
   ]
  },
  {
   "cell_type": "code",
   "execution_count": 4,
   "id": "032394af-c922-47c0-b688-dd4a70b31883",
   "metadata": {},
   "outputs": [
    {
     "data": {
      "text/html": [
       "<div>\n",
       "<style scoped>\n",
       "    .dataframe tbody tr th:only-of-type {\n",
       "        vertical-align: middle;\n",
       "    }\n",
       "\n",
       "    .dataframe tbody tr th {\n",
       "        vertical-align: top;\n",
       "    }\n",
       "\n",
       "    .dataframe thead th {\n",
       "        text-align: right;\n",
       "    }\n",
       "</style>\n",
       "<table border=\"1\" class=\"dataframe\">\n",
       "  <thead>\n",
       "    <tr style=\"text-align: right;\">\n",
       "      <th></th>\n",
       "      <th>hotel</th>\n",
       "      <th>is_canceled</th>\n",
       "      <th>lead_time</th>\n",
       "      <th>arrival_date_year</th>\n",
       "      <th>arrival_date_month</th>\n",
       "      <th>arrival_date_week_number</th>\n",
       "      <th>arrival_date_day_of_month</th>\n",
       "      <th>stays_in_weekend_nights</th>\n",
       "      <th>stays_in_week_nights</th>\n",
       "      <th>adults</th>\n",
       "      <th>...</th>\n",
       "      <th>customer_type</th>\n",
       "      <th>adr</th>\n",
       "      <th>required_car_parking_spaces</th>\n",
       "      <th>total_of_special_requests</th>\n",
       "      <th>reservation_status</th>\n",
       "      <th>reservation_status_date</th>\n",
       "      <th>name</th>\n",
       "      <th>email</th>\n",
       "      <th>phone-number</th>\n",
       "      <th>credit_card</th>\n",
       "    </tr>\n",
       "  </thead>\n",
       "  <tbody>\n",
       "    <tr>\n",
       "      <th>0</th>\n",
       "      <td>Resort Hotel</td>\n",
       "      <td>0</td>\n",
       "      <td>342</td>\n",
       "      <td>2015</td>\n",
       "      <td>July</td>\n",
       "      <td>27</td>\n",
       "      <td>1</td>\n",
       "      <td>0</td>\n",
       "      <td>0</td>\n",
       "      <td>2</td>\n",
       "      <td>...</td>\n",
       "      <td>Transient</td>\n",
       "      <td>0.0</td>\n",
       "      <td>0</td>\n",
       "      <td>0</td>\n",
       "      <td>Check-Out</td>\n",
       "      <td>2015-07-01</td>\n",
       "      <td>Ernest Barnes</td>\n",
       "      <td>Ernest.Barnes31@outlook.com</td>\n",
       "      <td>669-792-1661</td>\n",
       "      <td>************4322</td>\n",
       "    </tr>\n",
       "    <tr>\n",
       "      <th>1</th>\n",
       "      <td>Resort Hotel</td>\n",
       "      <td>0</td>\n",
       "      <td>737</td>\n",
       "      <td>2015</td>\n",
       "      <td>July</td>\n",
       "      <td>27</td>\n",
       "      <td>1</td>\n",
       "      <td>0</td>\n",
       "      <td>0</td>\n",
       "      <td>2</td>\n",
       "      <td>...</td>\n",
       "      <td>Transient</td>\n",
       "      <td>0.0</td>\n",
       "      <td>0</td>\n",
       "      <td>0</td>\n",
       "      <td>Check-Out</td>\n",
       "      <td>2015-07-01</td>\n",
       "      <td>Andrea Baker</td>\n",
       "      <td>Andrea_Baker94@aol.com</td>\n",
       "      <td>858-637-6955</td>\n",
       "      <td>************9157</td>\n",
       "    </tr>\n",
       "    <tr>\n",
       "      <th>2</th>\n",
       "      <td>Resort Hotel</td>\n",
       "      <td>0</td>\n",
       "      <td>7</td>\n",
       "      <td>2015</td>\n",
       "      <td>July</td>\n",
       "      <td>27</td>\n",
       "      <td>1</td>\n",
       "      <td>0</td>\n",
       "      <td>1</td>\n",
       "      <td>1</td>\n",
       "      <td>...</td>\n",
       "      <td>Transient</td>\n",
       "      <td>75.0</td>\n",
       "      <td>0</td>\n",
       "      <td>0</td>\n",
       "      <td>Check-Out</td>\n",
       "      <td>2015-07-02</td>\n",
       "      <td>Rebecca Parker</td>\n",
       "      <td>Rebecca_Parker@comcast.net</td>\n",
       "      <td>652-885-2745</td>\n",
       "      <td>************3734</td>\n",
       "    </tr>\n",
       "    <tr>\n",
       "      <th>3</th>\n",
       "      <td>Resort Hotel</td>\n",
       "      <td>0</td>\n",
       "      <td>13</td>\n",
       "      <td>2015</td>\n",
       "      <td>July</td>\n",
       "      <td>27</td>\n",
       "      <td>1</td>\n",
       "      <td>0</td>\n",
       "      <td>1</td>\n",
       "      <td>1</td>\n",
       "      <td>...</td>\n",
       "      <td>Transient</td>\n",
       "      <td>75.0</td>\n",
       "      <td>0</td>\n",
       "      <td>0</td>\n",
       "      <td>Check-Out</td>\n",
       "      <td>2015-07-02</td>\n",
       "      <td>Laura Murray</td>\n",
       "      <td>Laura_M@gmail.com</td>\n",
       "      <td>364-656-8427</td>\n",
       "      <td>************5677</td>\n",
       "    </tr>\n",
       "    <tr>\n",
       "      <th>4</th>\n",
       "      <td>Resort Hotel</td>\n",
       "      <td>0</td>\n",
       "      <td>14</td>\n",
       "      <td>2015</td>\n",
       "      <td>July</td>\n",
       "      <td>27</td>\n",
       "      <td>1</td>\n",
       "      <td>0</td>\n",
       "      <td>2</td>\n",
       "      <td>2</td>\n",
       "      <td>...</td>\n",
       "      <td>Transient</td>\n",
       "      <td>98.0</td>\n",
       "      <td>0</td>\n",
       "      <td>1</td>\n",
       "      <td>Check-Out</td>\n",
       "      <td>2015-07-03</td>\n",
       "      <td>Linda Hines</td>\n",
       "      <td>LHines@verizon.com</td>\n",
       "      <td>713-226-5883</td>\n",
       "      <td>************5498</td>\n",
       "    </tr>\n",
       "  </tbody>\n",
       "</table>\n",
       "<p>5 rows × 36 columns</p>\n",
       "</div>"
      ],
      "text/plain": [
       "          hotel  is_canceled  lead_time  arrival_date_year arrival_date_month  \\\n",
       "0  Resort Hotel            0        342               2015               July   \n",
       "1  Resort Hotel            0        737               2015               July   \n",
       "2  Resort Hotel            0          7               2015               July   \n",
       "3  Resort Hotel            0         13               2015               July   \n",
       "4  Resort Hotel            0         14               2015               July   \n",
       "\n",
       "   arrival_date_week_number  arrival_date_day_of_month  \\\n",
       "0                        27                          1   \n",
       "1                        27                          1   \n",
       "2                        27                          1   \n",
       "3                        27                          1   \n",
       "4                        27                          1   \n",
       "\n",
       "   stays_in_weekend_nights  stays_in_week_nights  adults  ...  customer_type  \\\n",
       "0                        0                     0       2  ...      Transient   \n",
       "1                        0                     0       2  ...      Transient   \n",
       "2                        0                     1       1  ...      Transient   \n",
       "3                        0                     1       1  ...      Transient   \n",
       "4                        0                     2       2  ...      Transient   \n",
       "\n",
       "    adr required_car_parking_spaces total_of_special_requests  \\\n",
       "0   0.0                           0                         0   \n",
       "1   0.0                           0                         0   \n",
       "2  75.0                           0                         0   \n",
       "3  75.0                           0                         0   \n",
       "4  98.0                           0                         1   \n",
       "\n",
       "  reservation_status reservation_status_date            name  \\\n",
       "0          Check-Out              2015-07-01   Ernest Barnes   \n",
       "1          Check-Out              2015-07-01    Andrea Baker   \n",
       "2          Check-Out              2015-07-02  Rebecca Parker   \n",
       "3          Check-Out              2015-07-02    Laura Murray   \n",
       "4          Check-Out              2015-07-03     Linda Hines   \n",
       "\n",
       "                         email  phone-number       credit_card  \n",
       "0  Ernest.Barnes31@outlook.com  669-792-1661  ************4322  \n",
       "1       Andrea_Baker94@aol.com  858-637-6955  ************9157  \n",
       "2   Rebecca_Parker@comcast.net  652-885-2745  ************3734  \n",
       "3            Laura_M@gmail.com  364-656-8427  ************5677  \n",
       "4           LHines@verizon.com  713-226-5883  ************5498  \n",
       "\n",
       "[5 rows x 36 columns]"
      ]
     },
     "execution_count": 4,
     "metadata": {},
     "output_type": "execute_result"
    }
   ],
   "source": [
    "# print top five data\n",
    "ht.head(5)"
   ]
  },
  {
   "cell_type": "markdown",
   "id": "c18095bf-f8e4-4fa7-be29-b233a7cbfac9",
   "metadata": {},
   "source": [
    "# Data cleaning "
   ]
  },
  {
   "cell_type": "code",
   "execution_count": 5,
   "id": "f1415159-dd71-413e-bd61-4cbff1a087f5",
   "metadata": {},
   "outputs": [
    {
     "data": {
      "text/plain": [
       "hotel                                  0\n",
       "is_canceled                            0\n",
       "lead_time                              0\n",
       "arrival_date_year                      0\n",
       "arrival_date_month                     0\n",
       "arrival_date_week_number               0\n",
       "arrival_date_day_of_month              0\n",
       "stays_in_weekend_nights                0\n",
       "stays_in_week_nights                   0\n",
       "adults                                 0\n",
       "children                               4\n",
       "babies                                 0\n",
       "meal                                   0\n",
       "country                              488\n",
       "market_segment                         0\n",
       "distribution_channel                   0\n",
       "is_repeated_guest                      0\n",
       "previous_cancellations                 0\n",
       "previous_bookings_not_canceled         0\n",
       "reserved_room_type                     0\n",
       "assigned_room_type                     0\n",
       "booking_changes                        0\n",
       "deposit_type                           0\n",
       "agent                              16340\n",
       "company                           112593\n",
       "days_in_waiting_list                   0\n",
       "customer_type                          0\n",
       "adr                                    0\n",
       "required_car_parking_spaces            0\n",
       "total_of_special_requests              0\n",
       "reservation_status                     0\n",
       "reservation_status_date                0\n",
       "name                                   0\n",
       "email                                  0\n",
       "phone-number                           0\n",
       "credit_card                            0\n",
       "dtype: int64"
      ]
     },
     "execution_count": 5,
     "metadata": {},
     "output_type": "execute_result"
    }
   ],
   "source": [
    "#  Now check the null values\n",
    "pd.isnull(ht).sum()"
   ]
  },
  {
   "cell_type": "code",
   "execution_count": 6,
   "id": "a89bab48-0784-4c51-82af-910ffccddf2a",
   "metadata": {},
   "outputs": [],
   "source": [
    "# Drop null values\n",
    "ht.dropna(inplace=True)"
   ]
  },
  {
   "cell_type": "code",
   "execution_count": 7,
   "id": "0dadedc2-53ac-4bc4-b2f4-52104f7c2232",
   "metadata": {},
   "outputs": [
    {
     "data": {
      "text/html": [
       "<div>\n",
       "<style scoped>\n",
       "    .dataframe tbody tr th:only-of-type {\n",
       "        vertical-align: middle;\n",
       "    }\n",
       "\n",
       "    .dataframe tbody tr th {\n",
       "        vertical-align: top;\n",
       "    }\n",
       "\n",
       "    .dataframe thead th {\n",
       "        text-align: right;\n",
       "    }\n",
       "</style>\n",
       "<table border=\"1\" class=\"dataframe\">\n",
       "  <thead>\n",
       "    <tr style=\"text-align: right;\">\n",
       "      <th></th>\n",
       "      <th>hotel</th>\n",
       "      <th>is_canceled</th>\n",
       "      <th>lead_time</th>\n",
       "      <th>arrival_date_year</th>\n",
       "      <th>arrival_date_month</th>\n",
       "      <th>arrival_date_week_number</th>\n",
       "      <th>arrival_date_day_of_month</th>\n",
       "      <th>stays_in_weekend_nights</th>\n",
       "      <th>stays_in_week_nights</th>\n",
       "      <th>adults</th>\n",
       "      <th>...</th>\n",
       "      <th>customer_type</th>\n",
       "      <th>adr</th>\n",
       "      <th>required_car_parking_spaces</th>\n",
       "      <th>total_of_special_requests</th>\n",
       "      <th>reservation_status</th>\n",
       "      <th>reservation_status_date</th>\n",
       "      <th>name</th>\n",
       "      <th>email</th>\n",
       "      <th>phone-number</th>\n",
       "      <th>credit_card</th>\n",
       "    </tr>\n",
       "  </thead>\n",
       "  <tbody>\n",
       "    <tr>\n",
       "      <th>2392</th>\n",
       "      <td>Resort Hotel</td>\n",
       "      <td>0</td>\n",
       "      <td>6</td>\n",
       "      <td>2015</td>\n",
       "      <td>October</td>\n",
       "      <td>42</td>\n",
       "      <td>11</td>\n",
       "      <td>2</td>\n",
       "      <td>0</td>\n",
       "      <td>2</td>\n",
       "      <td>...</td>\n",
       "      <td>Transient</td>\n",
       "      <td>82.0</td>\n",
       "      <td>1</td>\n",
       "      <td>1</td>\n",
       "      <td>Check-Out</td>\n",
       "      <td>2015-10-13</td>\n",
       "      <td>Darryl Phillips</td>\n",
       "      <td>Darryl_Phillips@hotmail.com</td>\n",
       "      <td>731-360-4698</td>\n",
       "      <td>************2677</td>\n",
       "    </tr>\n",
       "    <tr>\n",
       "      <th>2697</th>\n",
       "      <td>Resort Hotel</td>\n",
       "      <td>0</td>\n",
       "      <td>24</td>\n",
       "      <td>2015</td>\n",
       "      <td>October</td>\n",
       "      <td>44</td>\n",
       "      <td>26</td>\n",
       "      <td>7</td>\n",
       "      <td>15</td>\n",
       "      <td>1</td>\n",
       "      <td>...</td>\n",
       "      <td>Transient-Party</td>\n",
       "      <td>52.2</td>\n",
       "      <td>0</td>\n",
       "      <td>0</td>\n",
       "      <td>Check-Out</td>\n",
       "      <td>2015-11-17</td>\n",
       "      <td>Lynn Gaines</td>\n",
       "      <td>Lynn.Gaines77@yahoo.com</td>\n",
       "      <td>866-053-4253</td>\n",
       "      <td>************6564</td>\n",
       "    </tr>\n",
       "    <tr>\n",
       "      <th>2867</th>\n",
       "      <td>Resort Hotel</td>\n",
       "      <td>0</td>\n",
       "      <td>24</td>\n",
       "      <td>2015</td>\n",
       "      <td>November</td>\n",
       "      <td>45</td>\n",
       "      <td>3</td>\n",
       "      <td>0</td>\n",
       "      <td>3</td>\n",
       "      <td>2</td>\n",
       "      <td>...</td>\n",
       "      <td>Transient-Party</td>\n",
       "      <td>48.0</td>\n",
       "      <td>0</td>\n",
       "      <td>0</td>\n",
       "      <td>Check-Out</td>\n",
       "      <td>2015-11-06</td>\n",
       "      <td>Richard Diaz</td>\n",
       "      <td>Richard.Diaz@mail.com</td>\n",
       "      <td>836-443-4157</td>\n",
       "      <td>************8259</td>\n",
       "    </tr>\n",
       "    <tr>\n",
       "      <th>2877</th>\n",
       "      <td>Resort Hotel</td>\n",
       "      <td>0</td>\n",
       "      <td>24</td>\n",
       "      <td>2015</td>\n",
       "      <td>November</td>\n",
       "      <td>45</td>\n",
       "      <td>3</td>\n",
       "      <td>2</td>\n",
       "      <td>10</td>\n",
       "      <td>1</td>\n",
       "      <td>...</td>\n",
       "      <td>Transient-Party</td>\n",
       "      <td>40.0</td>\n",
       "      <td>0</td>\n",
       "      <td>0</td>\n",
       "      <td>Check-Out</td>\n",
       "      <td>2015-11-15</td>\n",
       "      <td>Karen Lynch</td>\n",
       "      <td>KarenLynch@att.com</td>\n",
       "      <td>153-365-6906</td>\n",
       "      <td>************5124</td>\n",
       "    </tr>\n",
       "    <tr>\n",
       "      <th>2878</th>\n",
       "      <td>Resort Hotel</td>\n",
       "      <td>0</td>\n",
       "      <td>24</td>\n",
       "      <td>2015</td>\n",
       "      <td>November</td>\n",
       "      <td>45</td>\n",
       "      <td>3</td>\n",
       "      <td>3</td>\n",
       "      <td>10</td>\n",
       "      <td>2</td>\n",
       "      <td>...</td>\n",
       "      <td>Transient-Party</td>\n",
       "      <td>48.0</td>\n",
       "      <td>0</td>\n",
       "      <td>0</td>\n",
       "      <td>Check-Out</td>\n",
       "      <td>2015-11-16</td>\n",
       "      <td>Joseph Livingston</td>\n",
       "      <td>Joseph.L@protonmail.com</td>\n",
       "      <td>175-653-7050</td>\n",
       "      <td>************3824</td>\n",
       "    </tr>\n",
       "    <tr>\n",
       "      <th>...</th>\n",
       "      <td>...</td>\n",
       "      <td>...</td>\n",
       "      <td>...</td>\n",
       "      <td>...</td>\n",
       "      <td>...</td>\n",
       "      <td>...</td>\n",
       "      <td>...</td>\n",
       "      <td>...</td>\n",
       "      <td>...</td>\n",
       "      <td>...</td>\n",
       "      <td>...</td>\n",
       "      <td>...</td>\n",
       "      <td>...</td>\n",
       "      <td>...</td>\n",
       "      <td>...</td>\n",
       "      <td>...</td>\n",
       "      <td>...</td>\n",
       "      <td>...</td>\n",
       "      <td>...</td>\n",
       "      <td>...</td>\n",
       "      <td>...</td>\n",
       "    </tr>\n",
       "    <tr>\n",
       "      <th>112499</th>\n",
       "      <td>City Hotel</td>\n",
       "      <td>0</td>\n",
       "      <td>13</td>\n",
       "      <td>2017</td>\n",
       "      <td>May</td>\n",
       "      <td>21</td>\n",
       "      <td>24</td>\n",
       "      <td>0</td>\n",
       "      <td>1</td>\n",
       "      <td>2</td>\n",
       "      <td>...</td>\n",
       "      <td>Transient-Party</td>\n",
       "      <td>150.0</td>\n",
       "      <td>0</td>\n",
       "      <td>1</td>\n",
       "      <td>Check-Out</td>\n",
       "      <td>2017-05-25</td>\n",
       "      <td>Meghan Flores</td>\n",
       "      <td>Flores_Meghan@verizon.com</td>\n",
       "      <td>439-451-4147</td>\n",
       "      <td>************8201</td>\n",
       "    </tr>\n",
       "    <tr>\n",
       "      <th>113046</th>\n",
       "      <td>City Hotel</td>\n",
       "      <td>0</td>\n",
       "      <td>13</td>\n",
       "      <td>2017</td>\n",
       "      <td>May</td>\n",
       "      <td>22</td>\n",
       "      <td>29</td>\n",
       "      <td>1</td>\n",
       "      <td>3</td>\n",
       "      <td>1</td>\n",
       "      <td>...</td>\n",
       "      <td>Transient</td>\n",
       "      <td>95.0</td>\n",
       "      <td>0</td>\n",
       "      <td>0</td>\n",
       "      <td>Check-Out</td>\n",
       "      <td>2017-06-02</td>\n",
       "      <td>Jordan Olson</td>\n",
       "      <td>Jordan.O@mail.com</td>\n",
       "      <td>860-873-3107</td>\n",
       "      <td>************9138</td>\n",
       "    </tr>\n",
       "    <tr>\n",
       "      <th>113082</th>\n",
       "      <td>City Hotel</td>\n",
       "      <td>0</td>\n",
       "      <td>13</td>\n",
       "      <td>2017</td>\n",
       "      <td>May</td>\n",
       "      <td>22</td>\n",
       "      <td>29</td>\n",
       "      <td>1</td>\n",
       "      <td>3</td>\n",
       "      <td>2</td>\n",
       "      <td>...</td>\n",
       "      <td>Transient</td>\n",
       "      <td>110.0</td>\n",
       "      <td>0</td>\n",
       "      <td>0</td>\n",
       "      <td>Check-Out</td>\n",
       "      <td>2017-06-02</td>\n",
       "      <td>Robert Reynolds</td>\n",
       "      <td>Robert.R@yandex.com</td>\n",
       "      <td>604-257-1344</td>\n",
       "      <td>************8808</td>\n",
       "    </tr>\n",
       "    <tr>\n",
       "      <th>113627</th>\n",
       "      <td>City Hotel</td>\n",
       "      <td>0</td>\n",
       "      <td>210</td>\n",
       "      <td>2017</td>\n",
       "      <td>June</td>\n",
       "      <td>23</td>\n",
       "      <td>9</td>\n",
       "      <td>0</td>\n",
       "      <td>1</td>\n",
       "      <td>2</td>\n",
       "      <td>...</td>\n",
       "      <td>Transient</td>\n",
       "      <td>135.0</td>\n",
       "      <td>0</td>\n",
       "      <td>0</td>\n",
       "      <td>Check-Out</td>\n",
       "      <td>2017-06-10</td>\n",
       "      <td>Mrs. Colleen Mcdaniel MD</td>\n",
       "      <td>Mrs._MD@outlook.com</td>\n",
       "      <td>929-209-4199</td>\n",
       "      <td>************4558</td>\n",
       "    </tr>\n",
       "    <tr>\n",
       "      <th>116451</th>\n",
       "      <td>City Hotel</td>\n",
       "      <td>0</td>\n",
       "      <td>191</td>\n",
       "      <td>2017</td>\n",
       "      <td>July</td>\n",
       "      <td>29</td>\n",
       "      <td>16</td>\n",
       "      <td>2</td>\n",
       "      <td>2</td>\n",
       "      <td>2</td>\n",
       "      <td>...</td>\n",
       "      <td>Transient</td>\n",
       "      <td>120.6</td>\n",
       "      <td>0</td>\n",
       "      <td>2</td>\n",
       "      <td>Check-Out</td>\n",
       "      <td>2017-07-20</td>\n",
       "      <td>Jeffrey Lane</td>\n",
       "      <td>Lane.Jeffrey14@verizon.com</td>\n",
       "      <td>616-943-4805</td>\n",
       "      <td>************3172</td>\n",
       "    </tr>\n",
       "  </tbody>\n",
       "</table>\n",
       "<p>217 rows × 36 columns</p>\n",
       "</div>"
      ],
      "text/plain": [
       "               hotel  is_canceled  lead_time  arrival_date_year  \\\n",
       "2392    Resort Hotel            0          6               2015   \n",
       "2697    Resort Hotel            0         24               2015   \n",
       "2867    Resort Hotel            0         24               2015   \n",
       "2877    Resort Hotel            0         24               2015   \n",
       "2878    Resort Hotel            0         24               2015   \n",
       "...              ...          ...        ...                ...   \n",
       "112499    City Hotel            0         13               2017   \n",
       "113046    City Hotel            0         13               2017   \n",
       "113082    City Hotel            0         13               2017   \n",
       "113627    City Hotel            0        210               2017   \n",
       "116451    City Hotel            0        191               2017   \n",
       "\n",
       "       arrival_date_month  arrival_date_week_number  \\\n",
       "2392              October                        42   \n",
       "2697              October                        44   \n",
       "2867             November                        45   \n",
       "2877             November                        45   \n",
       "2878             November                        45   \n",
       "...                   ...                       ...   \n",
       "112499                May                        21   \n",
       "113046                May                        22   \n",
       "113082                May                        22   \n",
       "113627               June                        23   \n",
       "116451               July                        29   \n",
       "\n",
       "        arrival_date_day_of_month  stays_in_weekend_nights  \\\n",
       "2392                           11                        2   \n",
       "2697                           26                        7   \n",
       "2867                            3                        0   \n",
       "2877                            3                        2   \n",
       "2878                            3                        3   \n",
       "...                           ...                      ...   \n",
       "112499                         24                        0   \n",
       "113046                         29                        1   \n",
       "113082                         29                        1   \n",
       "113627                          9                        0   \n",
       "116451                         16                        2   \n",
       "\n",
       "        stays_in_week_nights  adults  ...    customer_type    adr  \\\n",
       "2392                       0       2  ...        Transient   82.0   \n",
       "2697                      15       1  ...  Transient-Party   52.2   \n",
       "2867                       3       2  ...  Transient-Party   48.0   \n",
       "2877                      10       1  ...  Transient-Party   40.0   \n",
       "2878                      10       2  ...  Transient-Party   48.0   \n",
       "...                      ...     ...  ...              ...    ...   \n",
       "112499                     1       2  ...  Transient-Party  150.0   \n",
       "113046                     3       1  ...        Transient   95.0   \n",
       "113082                     3       2  ...        Transient  110.0   \n",
       "113627                     1       2  ...        Transient  135.0   \n",
       "116451                     2       2  ...        Transient  120.6   \n",
       "\n",
       "       required_car_parking_spaces total_of_special_requests  \\\n",
       "2392                             1                         1   \n",
       "2697                             0                         0   \n",
       "2867                             0                         0   \n",
       "2877                             0                         0   \n",
       "2878                             0                         0   \n",
       "...                            ...                       ...   \n",
       "112499                           0                         1   \n",
       "113046                           0                         0   \n",
       "113082                           0                         0   \n",
       "113627                           0                         0   \n",
       "116451                           0                         2   \n",
       "\n",
       "       reservation_status reservation_status_date                      name  \\\n",
       "2392            Check-Out              2015-10-13           Darryl Phillips   \n",
       "2697            Check-Out              2015-11-17               Lynn Gaines   \n",
       "2867            Check-Out              2015-11-06              Richard Diaz   \n",
       "2877            Check-Out              2015-11-15               Karen Lynch   \n",
       "2878            Check-Out              2015-11-16         Joseph Livingston   \n",
       "...                   ...                     ...                       ...   \n",
       "112499          Check-Out              2017-05-25             Meghan Flores   \n",
       "113046          Check-Out              2017-06-02              Jordan Olson   \n",
       "113082          Check-Out              2017-06-02           Robert Reynolds   \n",
       "113627          Check-Out              2017-06-10  Mrs. Colleen Mcdaniel MD   \n",
       "116451          Check-Out              2017-07-20              Jeffrey Lane   \n",
       "\n",
       "                              email  phone-number       credit_card  \n",
       "2392    Darryl_Phillips@hotmail.com  731-360-4698  ************2677  \n",
       "2697        Lynn.Gaines77@yahoo.com  866-053-4253  ************6564  \n",
       "2867          Richard.Diaz@mail.com  836-443-4157  ************8259  \n",
       "2877             KarenLynch@att.com  153-365-6906  ************5124  \n",
       "2878        Joseph.L@protonmail.com  175-653-7050  ************3824  \n",
       "...                             ...           ...               ...  \n",
       "112499    Flores_Meghan@verizon.com  439-451-4147  ************8201  \n",
       "113046            Jordan.O@mail.com  860-873-3107  ************9138  \n",
       "113082          Robert.R@yandex.com  604-257-1344  ************8808  \n",
       "113627          Mrs._MD@outlook.com  929-209-4199  ************4558  \n",
       "116451   Lane.Jeffrey14@verizon.com  616-943-4805  ************3172  \n",
       "\n",
       "[217 rows x 36 columns]"
      ]
     },
     "execution_count": 7,
     "metadata": {},
     "output_type": "execute_result"
    }
   ],
   "source": [
    "# Drop duplicates \n",
    "ht.drop_duplicates()"
   ]
  },
  {
   "cell_type": "code",
   "execution_count": 8,
   "id": "5088c704-28ec-4cc4-8689-15bc4f408b33",
   "metadata": {},
   "outputs": [],
   "source": [
    "#drop unrelated/blank columns\n",
    "ht.drop(['arrival_date_week_number', 'adr','name','email','phone-number'], axis=1, inplace=True)"
   ]
  },
  {
   "cell_type": "code",
   "execution_count": 9,
   "id": "dde1a689-fd3e-4801-9863-971a2340a7f9",
   "metadata": {},
   "outputs": [
    {
     "name": "stdout",
     "output_type": "stream",
     "text": [
      "<class 'pandas.core.frame.DataFrame'>\n",
      "Index: 217 entries, 2392 to 116451\n",
      "Data columns (total 31 columns):\n",
      " #   Column                          Non-Null Count  Dtype  \n",
      "---  ------                          --------------  -----  \n",
      " 0   hotel                           217 non-null    object \n",
      " 1   is_canceled                     217 non-null    int64  \n",
      " 2   lead_time                       217 non-null    int64  \n",
      " 3   arrival_date_year               217 non-null    int64  \n",
      " 4   arrival_date_month              217 non-null    object \n",
      " 5   arrival_date_day_of_month       217 non-null    int64  \n",
      " 6   stays_in_weekend_nights         217 non-null    int64  \n",
      " 7   stays_in_week_nights            217 non-null    int64  \n",
      " 8   adults                          217 non-null    int64  \n",
      " 9   children                        217 non-null    float64\n",
      " 10  babies                          217 non-null    int64  \n",
      " 11  meal                            217 non-null    object \n",
      " 12  country                         217 non-null    object \n",
      " 13  market_segment                  217 non-null    object \n",
      " 14  distribution_channel            217 non-null    object \n",
      " 15  is_repeated_guest               217 non-null    int64  \n",
      " 16  previous_cancellations          217 non-null    int64  \n",
      " 17  previous_bookings_not_canceled  217 non-null    int64  \n",
      " 18  reserved_room_type              217 non-null    object \n",
      " 19  assigned_room_type              217 non-null    object \n",
      " 20  booking_changes                 217 non-null    int64  \n",
      " 21  deposit_type                    217 non-null    object \n",
      " 22  agent                           217 non-null    float64\n",
      " 23  company                         217 non-null    float64\n",
      " 24  days_in_waiting_list            217 non-null    int64  \n",
      " 25  customer_type                   217 non-null    object \n",
      " 26  required_car_parking_spaces     217 non-null    int64  \n",
      " 27  total_of_special_requests       217 non-null    int64  \n",
      " 28  reservation_status              217 non-null    object \n",
      " 29  reservation_status_date         217 non-null    object \n",
      " 30  credit_card                     217 non-null    object \n",
      "dtypes: float64(3), int64(15), object(13)\n",
      "memory usage: 54.2+ KB\n"
     ]
    }
   ],
   "source": [
    "ht.info()"
   ]
  },
  {
   "cell_type": "code",
   "execution_count": 10,
   "id": "2be61a9d-0c43-4ec8-8608-b880ec8a4507",
   "metadata": {},
   "outputs": [
    {
     "data": {
      "text/html": [
       "<div>\n",
       "<style scoped>\n",
       "    .dataframe tbody tr th:only-of-type {\n",
       "        vertical-align: middle;\n",
       "    }\n",
       "\n",
       "    .dataframe tbody tr th {\n",
       "        vertical-align: top;\n",
       "    }\n",
       "\n",
       "    .dataframe thead th {\n",
       "        text-align: right;\n",
       "    }\n",
       "</style>\n",
       "<table border=\"1\" class=\"dataframe\">\n",
       "  <thead>\n",
       "    <tr style=\"text-align: right;\">\n",
       "      <th></th>\n",
       "      <th>is_canceled</th>\n",
       "      <th>lead_time</th>\n",
       "      <th>arrival_date_year</th>\n",
       "      <th>arrival_date_day_of_month</th>\n",
       "      <th>stays_in_weekend_nights</th>\n",
       "      <th>stays_in_week_nights</th>\n",
       "      <th>adults</th>\n",
       "      <th>children</th>\n",
       "      <th>babies</th>\n",
       "      <th>is_repeated_guest</th>\n",
       "      <th>previous_cancellations</th>\n",
       "      <th>previous_bookings_not_canceled</th>\n",
       "      <th>booking_changes</th>\n",
       "      <th>agent</th>\n",
       "      <th>company</th>\n",
       "      <th>days_in_waiting_list</th>\n",
       "      <th>required_car_parking_spaces</th>\n",
       "      <th>total_of_special_requests</th>\n",
       "    </tr>\n",
       "  </thead>\n",
       "  <tbody>\n",
       "    <tr>\n",
       "      <th>count</th>\n",
       "      <td>217.000000</td>\n",
       "      <td>217.000000</td>\n",
       "      <td>217.000000</td>\n",
       "      <td>217.000000</td>\n",
       "      <td>217.00000</td>\n",
       "      <td>217.000000</td>\n",
       "      <td>217.000000</td>\n",
       "      <td>217.000000</td>\n",
       "      <td>217.0</td>\n",
       "      <td>217.000000</td>\n",
       "      <td>217.000000</td>\n",
       "      <td>217.000000</td>\n",
       "      <td>217.000000</td>\n",
       "      <td>217.000000</td>\n",
       "      <td>217.000000</td>\n",
       "      <td>217.0</td>\n",
       "      <td>217.000000</td>\n",
       "      <td>217.000000</td>\n",
       "    </tr>\n",
       "    <tr>\n",
       "      <th>mean</th>\n",
       "      <td>0.078341</td>\n",
       "      <td>40.520737</td>\n",
       "      <td>2015.465438</td>\n",
       "      <td>10.824885</td>\n",
       "      <td>1.56682</td>\n",
       "      <td>4.631336</td>\n",
       "      <td>1.410138</td>\n",
       "      <td>0.036866</td>\n",
       "      <td>0.0</td>\n",
       "      <td>0.069124</td>\n",
       "      <td>0.009217</td>\n",
       "      <td>0.147465</td>\n",
       "      <td>1.285714</td>\n",
       "      <td>202.617512</td>\n",
       "      <td>262.105991</td>\n",
       "      <td>0.0</td>\n",
       "      <td>0.092166</td>\n",
       "      <td>0.198157</td>\n",
       "    </tr>\n",
       "    <tr>\n",
       "      <th>std</th>\n",
       "      <td>0.269329</td>\n",
       "      <td>61.748375</td>\n",
       "      <td>0.720053</td>\n",
       "      <td>7.582065</td>\n",
       "      <td>1.49270</td>\n",
       "      <td>3.552846</td>\n",
       "      <td>0.520406</td>\n",
       "      <td>0.232788</td>\n",
       "      <td>0.0</td>\n",
       "      <td>0.254252</td>\n",
       "      <td>0.135769</td>\n",
       "      <td>0.717768</td>\n",
       "      <td>1.251454</td>\n",
       "      <td>111.487444</td>\n",
       "      <td>103.602708</td>\n",
       "      <td>0.0</td>\n",
       "      <td>0.289929</td>\n",
       "      <td>0.546365</td>\n",
       "    </tr>\n",
       "    <tr>\n",
       "      <th>min</th>\n",
       "      <td>0.000000</td>\n",
       "      <td>0.000000</td>\n",
       "      <td>2015.000000</td>\n",
       "      <td>1.000000</td>\n",
       "      <td>0.00000</td>\n",
       "      <td>0.000000</td>\n",
       "      <td>1.000000</td>\n",
       "      <td>0.000000</td>\n",
       "      <td>0.0</td>\n",
       "      <td>0.000000</td>\n",
       "      <td>0.000000</td>\n",
       "      <td>0.000000</td>\n",
       "      <td>0.000000</td>\n",
       "      <td>5.000000</td>\n",
       "      <td>9.000000</td>\n",
       "      <td>0.0</td>\n",
       "      <td>0.000000</td>\n",
       "      <td>0.000000</td>\n",
       "    </tr>\n",
       "    <tr>\n",
       "      <th>25%</th>\n",
       "      <td>0.000000</td>\n",
       "      <td>12.000000</td>\n",
       "      <td>2015.000000</td>\n",
       "      <td>6.000000</td>\n",
       "      <td>0.00000</td>\n",
       "      <td>2.000000</td>\n",
       "      <td>1.000000</td>\n",
       "      <td>0.000000</td>\n",
       "      <td>0.0</td>\n",
       "      <td>0.000000</td>\n",
       "      <td>0.000000</td>\n",
       "      <td>0.000000</td>\n",
       "      <td>0.000000</td>\n",
       "      <td>185.000000</td>\n",
       "      <td>281.000000</td>\n",
       "      <td>0.0</td>\n",
       "      <td>0.000000</td>\n",
       "      <td>0.000000</td>\n",
       "    </tr>\n",
       "    <tr>\n",
       "      <th>50%</th>\n",
       "      <td>0.000000</td>\n",
       "      <td>27.000000</td>\n",
       "      <td>2015.000000</td>\n",
       "      <td>9.000000</td>\n",
       "      <td>2.00000</td>\n",
       "      <td>4.000000</td>\n",
       "      <td>1.000000</td>\n",
       "      <td>0.000000</td>\n",
       "      <td>0.0</td>\n",
       "      <td>0.000000</td>\n",
       "      <td>0.000000</td>\n",
       "      <td>0.000000</td>\n",
       "      <td>1.000000</td>\n",
       "      <td>185.000000</td>\n",
       "      <td>281.000000</td>\n",
       "      <td>0.0</td>\n",
       "      <td>0.000000</td>\n",
       "      <td>0.000000</td>\n",
       "    </tr>\n",
       "    <tr>\n",
       "      <th>75%</th>\n",
       "      <td>0.000000</td>\n",
       "      <td>36.000000</td>\n",
       "      <td>2016.000000</td>\n",
       "      <td>13.000000</td>\n",
       "      <td>2.00000</td>\n",
       "      <td>6.000000</td>\n",
       "      <td>2.000000</td>\n",
       "      <td>0.000000</td>\n",
       "      <td>0.0</td>\n",
       "      <td>0.000000</td>\n",
       "      <td>0.000000</td>\n",
       "      <td>0.000000</td>\n",
       "      <td>2.000000</td>\n",
       "      <td>324.000000</td>\n",
       "      <td>281.000000</td>\n",
       "      <td>0.0</td>\n",
       "      <td>0.000000</td>\n",
       "      <td>0.000000</td>\n",
       "    </tr>\n",
       "    <tr>\n",
       "      <th>max</th>\n",
       "      <td>1.000000</td>\n",
       "      <td>364.000000</td>\n",
       "      <td>2017.000000</td>\n",
       "      <td>31.000000</td>\n",
       "      <td>9.00000</td>\n",
       "      <td>21.000000</td>\n",
       "      <td>3.000000</td>\n",
       "      <td>2.000000</td>\n",
       "      <td>0.0</td>\n",
       "      <td>1.000000</td>\n",
       "      <td>2.000000</td>\n",
       "      <td>7.000000</td>\n",
       "      <td>6.000000</td>\n",
       "      <td>444.000000</td>\n",
       "      <td>499.000000</td>\n",
       "      <td>0.0</td>\n",
       "      <td>1.000000</td>\n",
       "      <td>3.000000</td>\n",
       "    </tr>\n",
       "  </tbody>\n",
       "</table>\n",
       "</div>"
      ],
      "text/plain": [
       "       is_canceled   lead_time  arrival_date_year  arrival_date_day_of_month  \\\n",
       "count   217.000000  217.000000         217.000000                 217.000000   \n",
       "mean      0.078341   40.520737        2015.465438                  10.824885   \n",
       "std       0.269329   61.748375           0.720053                   7.582065   \n",
       "min       0.000000    0.000000        2015.000000                   1.000000   \n",
       "25%       0.000000   12.000000        2015.000000                   6.000000   \n",
       "50%       0.000000   27.000000        2015.000000                   9.000000   \n",
       "75%       0.000000   36.000000        2016.000000                  13.000000   \n",
       "max       1.000000  364.000000        2017.000000                  31.000000   \n",
       "\n",
       "       stays_in_weekend_nights  stays_in_week_nights      adults    children  \\\n",
       "count                217.00000            217.000000  217.000000  217.000000   \n",
       "mean                   1.56682              4.631336    1.410138    0.036866   \n",
       "std                    1.49270              3.552846    0.520406    0.232788   \n",
       "min                    0.00000              0.000000    1.000000    0.000000   \n",
       "25%                    0.00000              2.000000    1.000000    0.000000   \n",
       "50%                    2.00000              4.000000    1.000000    0.000000   \n",
       "75%                    2.00000              6.000000    2.000000    0.000000   \n",
       "max                    9.00000             21.000000    3.000000    2.000000   \n",
       "\n",
       "       babies  is_repeated_guest  previous_cancellations  \\\n",
       "count   217.0         217.000000              217.000000   \n",
       "mean      0.0           0.069124                0.009217   \n",
       "std       0.0           0.254252                0.135769   \n",
       "min       0.0           0.000000                0.000000   \n",
       "25%       0.0           0.000000                0.000000   \n",
       "50%       0.0           0.000000                0.000000   \n",
       "75%       0.0           0.000000                0.000000   \n",
       "max       0.0           1.000000                2.000000   \n",
       "\n",
       "       previous_bookings_not_canceled  booking_changes       agent  \\\n",
       "count                      217.000000       217.000000  217.000000   \n",
       "mean                         0.147465         1.285714  202.617512   \n",
       "std                          0.717768         1.251454  111.487444   \n",
       "min                          0.000000         0.000000    5.000000   \n",
       "25%                          0.000000         0.000000  185.000000   \n",
       "50%                          0.000000         1.000000  185.000000   \n",
       "75%                          0.000000         2.000000  324.000000   \n",
       "max                          7.000000         6.000000  444.000000   \n",
       "\n",
       "          company  days_in_waiting_list  required_car_parking_spaces  \\\n",
       "count  217.000000                 217.0                   217.000000   \n",
       "mean   262.105991                   0.0                     0.092166   \n",
       "std    103.602708                   0.0                     0.289929   \n",
       "min      9.000000                   0.0                     0.000000   \n",
       "25%    281.000000                   0.0                     0.000000   \n",
       "50%    281.000000                   0.0                     0.000000   \n",
       "75%    281.000000                   0.0                     0.000000   \n",
       "max    499.000000                   0.0                     1.000000   \n",
       "\n",
       "       total_of_special_requests  \n",
       "count                 217.000000  \n",
       "mean                    0.198157  \n",
       "std                     0.546365  \n",
       "min                     0.000000  \n",
       "25%                     0.000000  \n",
       "50%                     0.000000  \n",
       "75%                     0.000000  \n",
       "max                     3.000000  "
      ]
     },
     "execution_count": 10,
     "metadata": {},
     "output_type": "execute_result"
    }
   ],
   "source": [
    "ht.describe()"
   ]
  },
  {
   "cell_type": "code",
   "execution_count": 11,
   "id": "790dbb7f-30fa-4f2f-8367-5f1d8291e0a8",
   "metadata": {},
   "outputs": [
    {
     "data": {
      "text/plain": [
       "Index(['hotel', 'is_canceled', 'lead_time', 'arrival_date_year',\n",
       "       'arrival_date_month', 'arrival_date_day_of_month',\n",
       "       'stays_in_weekend_nights', 'stays_in_week_nights', 'adults', 'children',\n",
       "       'babies', 'meal', 'country', 'market_segment', 'distribution_channel',\n",
       "       'is_repeated_guest', 'previous_cancellations',\n",
       "       'previous_bookings_not_canceled', 'reserved_room_type',\n",
       "       'assigned_room_type', 'booking_changes', 'deposit_type', 'agent',\n",
       "       'company', 'days_in_waiting_list', 'customer_type',\n",
       "       'required_car_parking_spaces', 'total_of_special_requests',\n",
       "       'reservation_status', 'reservation_status_date', 'credit_card'],\n",
       "      dtype='object')"
      ]
     },
     "execution_count": 11,
     "metadata": {},
     "output_type": "execute_result"
    }
   ],
   "source": [
    "ht.columns"
   ]
  },
  {
   "cell_type": "markdown",
   "id": "64f3f7c9-2e57-4775-a7e9-d1b73a9fc375",
   "metadata": {},
   "source": [
    "# Exploratory Data Analysis"
   ]
  },
  {
   "cell_type": "code",
   "execution_count": 12,
   "id": "595dbe21-4903-4ff9-ae8a-4d1ca9e58295",
   "metadata": {},
   "outputs": [
    {
     "data": {
      "text/plain": [
       "<Axes: xlabel='hotel', ylabel='Count'>"
      ]
     },
     "execution_count": 12,
     "metadata": {},
     "output_type": "execute_result"
    },
    {
     "data": {
      "image/png": "[encoded data removed]",
      "text/plain": [
       "<Figure size 640x480 with 1 Axes>"
      ]
     },
     "metadata": {},
     "output_type": "display_data"
    }
   ],
   "source": [
    "# plotting a histogram for  city hotel and resort hotel \n",
    "sns.histplot(data=ht,x='hotel',palette='hot_r',hue= 'is_canceled')\n"
   ]
  },
  {
   "cell_type": "code",
   "execution_count": 13,
   "id": "854e8d11-b772-435e-9489-579485ecca6a",
   "metadata": {},
   "outputs": [
    {
     "data": {
      "text/plain": [
       "<Axes: xlabel='arrival_date_year', ylabel='Count'>"
      ]
     },
     "execution_count": 13,
     "metadata": {},
     "output_type": "execute_result"
    },
    {
     "data": {
      "image/png": "[encoded data removed]",
      "text/plain": [
       "<Figure size 900x600 with 1 Axes>"
      ]
     },
     "metadata": {},
     "output_type": "display_data"
    }
   ],
   "source": [
    "# plotting a histogram for  arrival year\n",
    "fig1, ax1 = plt.subplots(figsize=(9,6))\n",
    "sns.histplot(data=ht,x='arrival_date_year',color=\"orange\")"
   ]
  },
  {
   "cell_type": "code",
   "execution_count": 14,
   "id": "a6281a58-2703-4631-869c-9d29afc8ad9f",
   "metadata": {},
   "outputs": [
    {
     "data": {
      "text/plain": [
       "<Axes: xlabel='arrival_date_month', ylabel='count'>"
      ]
     },
     "execution_count": 14,
     "metadata": {},
     "output_type": "execute_result"
    },
    {
     "data": {
      "image/png": "[encoded data removed]",
      "text/plain": [
       "<Figure size 1200x600 with 1 Axes>"
      ]
     },
     "metadata": {},
     "output_type": "display_data"
    }
   ],
   "source": [
    "# plotting a histogram for  arrival month\n",
    "\n",
    "fig2, ax1 = plt.subplots(figsize=(12,6))\n",
    "sns.countplot(ht, x='arrival_date_month',width=0.9,order=ht['arrival_date_month'].value_counts(ascending=True).index,color=\"purple\")"
   ]
  },
  {
   "cell_type": "code",
   "execution_count": 15,
   "id": "4fbd38a3-d44d-4a56-a59c-b3672bc7ea40",
   "metadata": {},
   "outputs": [
    {
     "data": {
      "text/plain": [
       "<Axes: xlabel='lead_time', ylabel='Count'>"
      ]
     },
     "execution_count": 15,
     "metadata": {},
     "output_type": "execute_result"
    },
    {
     "data": {
      "image/png": "[encoded data removed]",
      "text/plain": [
       "<Figure size 1200x700 with 1 Axes>"
      ]
     },
     "metadata": {},
     "output_type": "display_data"
    }
   ],
   "source": [
    "fig3, ax1 = plt.subplots(figsize=(12,7))\n",
    "sns.histplot(data=ht,x='lead_time',bins=20,color=\"purple\")"
   ]
  },
  {
   "cell_type": "code",
   "execution_count": 68,
   "id": "925b0ad7-881e-41f2-bbee-fd839f91cbf0",
   "metadata": {},
   "outputs": [
    {
     "data": {
      "text/plain": [
       "<Axes: xlabel='meal', ylabel='count'>"
      ]
     },
     "execution_count": 68,
     "metadata": {},
     "output_type": "execute_result"
    },
    {
     "data": {
      "image/png": "[encoded data removed]",
      "text/plain": [
       "<Figure size 640x480 with 1 Axes>"
      ]
     },
     "metadata": {},
     "output_type": "display_data"
    }
   ],
   "source": [
    "sns.countplot(ht,x= 'meal',color=\"orange\")"
   ]
  },
  {
   "cell_type": "code",
   "execution_count": 121,
   "id": "891da0d7-4899-46b3-b5ce-4f8f7191ea46",
   "metadata": {},
   "outputs": [
    {
     "name": "stdout",
     "output_type": "stream",
     "text": [
      "['BB' 'HB' 'SC' 'FB']\n"
     ]
    }
   ],
   "source": [
    "print(ht['meal'].unique())"
   ]
  },
  {
   "cell_type": "code",
   "execution_count": 131,
   "id": "40213fc3-62e0-4f96-be41-2cc3d91d483e",
   "metadata": {},
   "outputs": [
    {
     "data": {
      "image/png": "[encoded data removed]",
      "text/plain": [
       "<Figure size 640x480 with 1 Axes>"
      ]
     },
     "metadata": {},
     "output_type": "display_data"
    }
   ],
   "source": [
    "a = ht['meal'].value_counts()\n",
    "lb=(['BB','HB','SC','FB'])\n",
    "val=[0.3,0.3,0.2,0.3]\n",
    "c=['pink','blue','orange','green']\n",
    "plt.pie(a,labels=lb,explode=val,colors=c,autopct=\"%0.1f%%\")\n",
    "plt.show()"
   ]
  },
  {
   "cell_type": "code",
   "execution_count": 17,
   "id": "bcfc5d6e-0f37-465e-a067-e72251c31ed3",
   "metadata": {},
   "outputs": [
    {
     "data": {
      "text/plain": [
       "<Axes: xlabel='country', ylabel='count'>"
      ]
     },
     "execution_count": 17,
     "metadata": {},
     "output_type": "execute_result"
    },
    {
     "data": {
      "image/png": "[encoded data removed]",
      "text/plain": [
       "<Figure size 1200x700 with 1 Axes>"
      ]
     },
     "metadata": {},
     "output_type": "display_data"
    }
   ],
   "source": [
    "fig3, ax1 = plt.subplots(figsize=(12,7))\n",
    "sns.countplot(ht,x= 'country',color=\"green\",order=ht['country'].value_counts(ascending=True).index)"
   ]
  },
  {
   "cell_type": "code",
   "execution_count": 20,
   "id": "6ee7f928-3dc6-451d-8894-d5083118c9c6",
   "metadata": {},
   "outputs": [
    {
     "data": {
      "text/plain": [
       "Index(['hotel', 'is_canceled', 'lead_time', 'arrival_date_year',\n",
       "       'arrival_date_month', 'arrival_date_day_of_month',\n",
       "       'stays_in_weekend_nights', 'stays_in_week_nights', 'adults', 'children',\n",
       "       'babies', 'meal', 'country', 'market_segment', 'distribution_channel',\n",
       "       'is_repeated_guest', 'previous_cancellations',\n",
       "       'previous_bookings_not_canceled', 'reserved_room_type',\n",
       "       'assigned_room_type', 'booking_changes', 'deposit_type', 'agent',\n",
       "       'company', 'days_in_waiting_list', 'customer_type',\n",
       "       'required_car_parking_spaces', 'total_of_special_requests',\n",
       "       'reservation_status', 'reservation_status_date', 'credit_card'],\n",
       "      dtype='object')"
      ]
     },
     "execution_count": 20,
     "metadata": {},
     "output_type": "execute_result"
    }
   ],
   "source": [
    "ht.columns\n",
    "print(ht['meal'].unique())"
   ]
  },
  {
   "cell_type": "code",
   "execution_count": 123,
   "id": "46c7a392-cbbe-49b5-be19-6a67581cdf1a",
   "metadata": {},
   "outputs": [
    {
     "name": "stdout",
     "output_type": "stream",
     "text": [
      "[0 1]\n"
     ]
    }
   ],
   "source": [
    "print(ht['is_repeated_guest'].unique())"
   ]
  },
  {
   "cell_type": "code",
   "execution_count": 126,
   "id": "77ea5ba7-eaea-4e40-8b89-887a9174237c",
   "metadata": {},
   "outputs": [
    {
     "data": {
      "image/png": "[encoded data removed]",
      "text/plain": [
       "<Figure size 640x480 with 1 Axes>"
      ]
     },
     "metadata": {},
     "output_type": "display_data"
    }
   ],
   "source": [
    "# now we considered 1 is repeated guest and 0 is not repeated guest(0=NO, 1= yes )\n",
    "a = ht['is_repeated_guest'].value_counts()\n",
    "lb=(['Yes','NO'])\n",
    "val=[0.0,0.3]\n",
    "c=['pink','maroon']\n",
    "plt.pie(a,labels=lb,colors=c,explode=val,autopct=\"%0.1f%%\")\n",
    "plt.show()"
   ]
  },
  {
   "cell_type": "code",
   "execution_count": 128,
   "id": "2c832621-5887-4e52-b9ce-e77b2913fe68",
   "metadata": {},
   "outputs": [
    {
     "name": "stdout",
     "output_type": "stream",
     "text": [
      "['Check-Out' 'Canceled' 'No-Show']\n"
     ]
    }
   ],
   "source": [
    "print(ht['reservation_status'].unique())"
   ]
  },
  {
   "cell_type": "code",
   "execution_count": 129,
   "id": "25ad35fd-1de3-439b-947d-267fdb9b4af0",
   "metadata": {},
   "outputs": [
    {
     "data": {
      "image/png": "[encoded data removed]",
      "text/plain": [
       "<Figure size 640x480 with 1 Axes>"
      ]
     },
     "metadata": {},
     "output_type": "display_data"
    }
   ],
   "source": [
    "a = ht['reservation_status'].value_counts()\n",
    "lb=(['Check-Out','Canceled','No-Show'])\n",
    "val=[0.0,0.3,0.3]\n",
    "c=['pink','maroon','yellow']\n",
    "plt.pie(a,labels=lb,colors=c,explode=val,autopct=\"%0.1f%%\")\n",
    "plt.show()"
   ]
  },
  {
   "cell_type": "code",
   "execution_count": null,
   "id": "3a4e7f27-769c-44b4-b1da-229ecd68b8a7",
   "metadata": {},
   "outputs": [],
   "source": []
  }
 ],
 "metadata": {
  "kernelspec": {
   "display_name": "Python 3 (ipykernel)",
   "language": "python",
   "name": "python3"
  },
  "language_info": {
   "codemirror_mode": {
    "name": "ipython",
    "version": 3
   },
   "file_extension": ".py",
   "mimetype": "text/x-python",
   "name": "python",
   "nbconvert_exporter": "python",
   "pygments_lexer": "ipython3",
   "version": "3.10.6"
  },
  "widgets": {
   "application/vnd.jupyter.widget-state+json": {
    "state": {},
    "version_major": 2,
    "version_minor": 0
   }
  }
 },
 "nbformat": 4,
 "nbformat_minor": 5
}
